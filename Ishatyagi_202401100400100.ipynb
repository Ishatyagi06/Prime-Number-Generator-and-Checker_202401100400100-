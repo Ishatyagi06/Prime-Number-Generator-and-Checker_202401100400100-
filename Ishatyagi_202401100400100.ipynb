{
  "nbformat": 4,
  "nbformat_minor": 0,
  "metadata": {
    "colab": {
      "provenance": []
    },
    "kernelspec": {
      "name": "python3",
      "display_name": "Python 3"
    },
    "language_info": {
      "name": "python"
    }
  },
  "cells": [
    {
      "cell_type": "code",
      "execution_count": 3,
      "metadata": {
        "colab": {
          "base_uri": "https://localhost:8080/"
        },
        "id": "f-3G5Dfqh4CB",
        "outputId": "61b16907-aa60-48cb-94c8-fae76482b16f"
      },
      "outputs": [
        {
          "output_type": "stream",
          "name": "stdout",
          "text": [
            "Enter Limit : 100\n",
            "Prime numbers up to 100: [2, 3, 5, 7, 11, 13, 17, 19, 23, 29, 31, 37, 41, 43, 47, 53, 59, 61, 67, 71, 73, 79, 83, 89, 97]\n",
            "Enter number to check : 11\n",
            "11 is a prime number.\n"
          ]
        }
      ],
      "source": [
        "def is_prime(n):\n",
        "    #Prime Number Checker\n",
        "    if n <= 1:\n",
        "        return False\n",
        "    for i in range(2, int(n**0.5) + 1): # check upto sqrt(n)\n",
        "        if n % i == 0:\n",
        "            return False\n",
        "    return True\n",
        "\n",
        "def generate_primes(limit):\n",
        "    #Generating Prime Numbers\n",
        "    primes = [] # list for all prime numbers upto given limit\n",
        "    for num in range(2, limit + 1):\n",
        "        if is_prime(num):\n",
        "            primes.append(num)\n",
        "    return primes\n",
        "\n",
        "limit = int(input(\"Enter Limit : \"))  # Specify the range for generating generating prime numbers\n",
        "print(f\"Prime numbers up to {limit}: {generate_primes(limit)}\")\n",
        "\n",
        "# Check if a number is prime\n",
        "number_to_check = int(input(\"Enter number to check : \"))\n",
        "if is_prime(number_to_check):\n",
        "  print(f\"{number_to_check} is a prime number.\")\n",
        "else:\n",
        "  print(f\"{number_to_check} is not a prime number.\")"
      ]
    }
  ]
}